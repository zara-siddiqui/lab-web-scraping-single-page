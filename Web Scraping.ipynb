{
 "cells": [
  {
   "cell_type": "markdown",
   "id": "0f81990d",
   "metadata": {},
   "source": [
    "# Web Scraping Single Page (GNOD part 1)\n",
    "\n",
    "Your product will take a song as an input from the user and will output another song (the recommendation). In most cases, the recommended song will have to be similar to the inputted song, but the CTO thinks that if the song is on the top charts at the moment, the user will also enjoy a recommendation of another song that is popular at the moment.\n",
    "\n",
    "You have to find data on the internet about currently popular songs. Popvortex maintains a weekly Top 100 of \"hot\" songs here: http://www.popvortex.com/music/charts/top-100-songs.php.\n",
    "\n",
    "It's a good place to start! Scrape the current top 100 songs and their respective artists, and put the information into a pandas dataframe."
   ]
  },
  {
   "cell_type": "code",
   "execution_count": 1,
   "id": "16406e49",
   "metadata": {},
   "outputs": [],
   "source": [
    "from bs4 import BeautifulSoup\n",
    "import requests\n",
    "import pandas as pd"
   ]
  },
  {
   "cell_type": "code",
   "execution_count": 2,
   "id": "4928dde8",
   "metadata": {},
   "outputs": [],
   "source": [
    "url = \"http://www.popvortex.com/music/charts/top-100-songs.php\""
   ]
  },
  {
   "cell_type": "code",
   "execution_count": 3,
   "id": "a9ad4320",
   "metadata": {},
   "outputs": [],
   "source": [
    "response = requests.get(url)\n",
    "# response.content"
   ]
  },
  {
   "cell_type": "code",
   "execution_count": 4,
   "id": "bc50d26e",
   "metadata": {},
   "outputs": [],
   "source": [
    "soup = BeautifulSoup(response.content, \"html.parser\")"
   ]
  },
  {
   "cell_type": "code",
   "execution_count": 5,
   "id": "1f9fa6f4",
   "metadata": {},
   "outputs": [],
   "source": [
    "# soup"
   ]
  },
  {
   "cell_type": "markdown",
   "id": "bfb8f168",
   "metadata": {},
   "source": [
    "# Making beautiful soups into beautiful tables"
   ]
  },
  {
   "cell_type": "code",
   "execution_count": 6,
   "id": "72513b5d",
   "metadata": {},
   "outputs": [],
   "source": [
    "song_elements = soup.find_all('div', class_='chart-content')"
   ]
  },
  {
   "cell_type": "code",
   "execution_count": 7,
   "id": "93c170a1",
   "metadata": {},
   "outputs": [
    {
     "name": "stdout",
     "output_type": "stream",
     "text": [
      "Songs: [\"TEXAS HOLD 'EM\", 'Lose Control', 'Beautiful Things', 'Flowers', 'Turn the Lights Back On', \"Don't Let the Old Man In\", 'Lovin On Me', 'Selfish', 'Sorrys & Ferraris', \"TEXAS HOLD 'EM\", 'I Remember Everything (feat. Kacey Musgraves)', 'Made For Me', 'Houdini', 'Training Season', 'Fast Car', 'Fast Car', 'Live Like You Were Dying', 'Save Me', \"Let's Go\", 'Yeah! (feat. Lil Jon & Ludacris)', 'Lil Boo Thang', 'Cruel Summer', '16 CARRIAGES', 'Where the Wild Things Are', 'Until I Found You', 'Need a Favor', \"Country's Cool Again\", \"In Case You Didn't Know\", 'Spicy Margarita', 'You Are the Reason', 'yes, and?', 'Three Little Birds', 'Until I Found You (Em Beihold Version)', 'Powerful Women', 'Water', 'White Horse', 'Murder On the Dancefloor (Radio Edit)', \"Should've Been a Cowboy\", 'What Was I Made For? (From The Motion Picture \"Barbie\")', 'Thinkin’ Bout Me', 'Hard to Love', \"It Ain't Over 'Til It's Over\", 'Good Day', 'A Country Boy Can Survive', 'Save Me (with Lainey Wilson)', 'One Love / People Get Ready', 'Lovin On Me', 'Devil You Know', 'Anti-Hero', 'Spin You Around (1/24)', 'Courtesy of the Red, White and Blue (The Angry American)', 'You Are the Reason (Duet Version)', 'Love Story (Taylor’s Version)', 'There Was Jesus', 'Wildflowers and Wild Horses (Single Version)', 'Watermelon Moonshine', 'bury a friend', 'You’re Losing Me (From The Vault)', 'What I Couldn’t Forget', 'Lover', 'Last Night', 'Standing Next to You (USHER Remix)', 'You Belong With Me (Taylor’s Version)', 'CARNIVAL', 'Dance The Night', 'To Be A Man (feat. Darius Rucker)', 'Fly Away', 'Tennessee Whiskey', 'Standing Next to You (Usher Remix)', 'As Good As I Once Was', 'Pretty Little Poison', 'Karma', 'Stick Season', '23', 'EASY', 'Praise (feat. Brandon Lake, Chris Brown & Chandler Moore)', 'The Door', 'TRUCK BED', 'We Are the World', 'You Need To Calm Down', 'A Symptom Of Being Human', 'Bulletproof', 'redrum', 'Lead Me Home', 'Good Days', 'Unwritten', 'Dance You Outta My Head', 'Life With You', 'Strangers', 'Everybody (feat. Lil Uzi Vert)', \"Can't Get Enough\", 'Give In to Me', '...Ready For It?', 'How Do You Like Me Now?!', 'Purple Irises', 'Tell It To My Heart', \"We Takin' Over (feat. Akon, T.I., Rick Ross, Fat Joe, Baby & Lil' Wayne)\", 'Used To Be Young', 'Heart Like a Truck', 'greedy']\n",
      "Artists: ['Beyoncé', 'Teddy Swims', 'Benson Boone', 'Miley Cyrus', 'Billy Joel', 'Toby Keith', 'Jack Harlow', 'Justin Timberlake', 'Polo G', 'Beyoncé', 'Zach Bryan', 'Muni Long', 'Dua Lipa', 'Dua Lipa', 'Luke Combs', 'Tracy Chapman', 'Tim McGraw', 'Jelly Roll', 'Key Glock', 'USHER', 'Paul Russell', 'Taylor Swift', 'Beyoncé', 'Luke Combs', 'Stephen Sanchez', 'Jelly Roll', 'Lainey Wilson', 'Brett Young', 'Jason Derulo & Michael Bublé', 'Calum Scott', 'Ariana Grande & Mariah Carey', 'Bob Marley & The Wailers', 'Stephen Sanchez & Em Beihold', 'Pitbull & Dolly Parton', 'Tyla', 'Chris Stapleton', 'Sophie Ellis-Bextor', 'Toby Keith', 'Billie Eilish', 'Morgan Wallen', 'Lee Brice', 'Lenny Kravitz', 'Forrest Frank', 'Hank Williams, Jr.', 'Jelly Roll', 'Bob Marley & The Wailers', 'Jack Harlow', 'Tyler Braden', 'Taylor Swift', 'Morgan Wallen', 'Toby Keith', 'Calum Scott & Leona Lewis', 'Taylor Swift', 'Zach Williams & Dolly Parton', 'Lainey Wilson', 'Lainey Wilson', 'Billie Eilish', 'Taylor Swift', 'Drake Milligan', 'Taylor Swift', 'Morgan Wallen', 'Jung Kook & USHER', 'Taylor Swift', '¥$, Kanye West & Ty Dolla $ign', 'Dua Lipa', 'Dax', 'Lenny Kravitz', 'Chris Stapleton', 'Jung Kook & USHER', 'Toby Keith', 'Warren Zeiders', 'Taylor Swift', 'Noah Kahan', 'Chayce Beckham', 'LE SSERAFIM', 'Elevation Worship', 'Teddy Swims', 'HARDY', 'U.S.A. for Africa', 'Taylor Swift', 'Shinedown', 'Nate Smith', '21 Savage', 'Jamey Johnson', 'SZA', 'Natasha Bedingfield', 'Cat Janice', 'Kelsey Hart', 'Kenya Grace', 'Nicki Minaj', 'Jennifer Lopez', 'Garrett Hedlund & Leighton Meester', 'Taylor Swift', 'Toby Keith', 'Gwen Stefani & Blake Shelton', 'Cash Cash & Taylor Dayne', 'DJ Khaled', 'Miley Cyrus', 'Lainey Wilson', 'Tate McRae']\n"
     ]
    }
   ],
   "source": [
    "song = []\n",
    "artist = []\n",
    "\n",
    "for i, element in enumerate(song_elements):\n",
    "    title = element.find('cite', class_='title').text.strip()\n",
    "    artist_name = element.find('em', class_='artist').text.strip()\n",
    "\n",
    "    song.append(title)\n",
    "    artist.append(artist_name)\n",
    "\n",
    "\n",
    "print(\"Songs:\", song)\n",
    "print(\"Artists:\", artist)"
   ]
  },
  {
   "cell_type": "code",
   "execution_count": 8,
   "id": "bd03c27e",
   "metadata": {},
   "outputs": [],
   "source": [
    "# each list becomes a column\n",
    "repertoire = pd.DataFrame({\"Songs\" : song,\n",
    "                           \"Artists\" : artist\n",
    "                          })"
   ]
  },
  {
   "cell_type": "code",
   "execution_count": 9,
   "id": "3c4d5de5",
   "metadata": {},
   "outputs": [
    {
     "data": {
      "text/html": [
       "<div>\n",
       "<style scoped>\n",
       "    .dataframe tbody tr th:only-of-type {\n",
       "        vertical-align: middle;\n",
       "    }\n",
       "\n",
       "    .dataframe tbody tr th {\n",
       "        vertical-align: top;\n",
       "    }\n",
       "\n",
       "    .dataframe thead th {\n",
       "        text-align: right;\n",
       "    }\n",
       "</style>\n",
       "<table border=\"1\" class=\"dataframe\">\n",
       "  <thead>\n",
       "    <tr style=\"text-align: right;\">\n",
       "      <th></th>\n",
       "      <th>Songs</th>\n",
       "      <th>Artists</th>\n",
       "    </tr>\n",
       "  </thead>\n",
       "  <tbody>\n",
       "    <tr>\n",
       "      <th>0</th>\n",
       "      <td>TEXAS HOLD 'EM</td>\n",
       "      <td>Beyoncé</td>\n",
       "    </tr>\n",
       "    <tr>\n",
       "      <th>1</th>\n",
       "      <td>Lose Control</td>\n",
       "      <td>Teddy Swims</td>\n",
       "    </tr>\n",
       "    <tr>\n",
       "      <th>2</th>\n",
       "      <td>Beautiful Things</td>\n",
       "      <td>Benson Boone</td>\n",
       "    </tr>\n",
       "    <tr>\n",
       "      <th>3</th>\n",
       "      <td>Flowers</td>\n",
       "      <td>Miley Cyrus</td>\n",
       "    </tr>\n",
       "    <tr>\n",
       "      <th>4</th>\n",
       "      <td>Turn the Lights Back On</td>\n",
       "      <td>Billy Joel</td>\n",
       "    </tr>\n",
       "    <tr>\n",
       "      <th>...</th>\n",
       "      <td>...</td>\n",
       "      <td>...</td>\n",
       "    </tr>\n",
       "    <tr>\n",
       "      <th>95</th>\n",
       "      <td>Tell It To My Heart</td>\n",
       "      <td>Cash Cash &amp; Taylor Dayne</td>\n",
       "    </tr>\n",
       "    <tr>\n",
       "      <th>96</th>\n",
       "      <td>We Takin' Over (feat. Akon, T.I., Rick Ross, F...</td>\n",
       "      <td>DJ Khaled</td>\n",
       "    </tr>\n",
       "    <tr>\n",
       "      <th>97</th>\n",
       "      <td>Used To Be Young</td>\n",
       "      <td>Miley Cyrus</td>\n",
       "    </tr>\n",
       "    <tr>\n",
       "      <th>98</th>\n",
       "      <td>Heart Like a Truck</td>\n",
       "      <td>Lainey Wilson</td>\n",
       "    </tr>\n",
       "    <tr>\n",
       "      <th>99</th>\n",
       "      <td>greedy</td>\n",
       "      <td>Tate McRae</td>\n",
       "    </tr>\n",
       "  </tbody>\n",
       "</table>\n",
       "<p>100 rows × 2 columns</p>\n",
       "</div>"
      ],
      "text/plain": [
       "                                                Songs  \\\n",
       "0                                      TEXAS HOLD 'EM   \n",
       "1                                        Lose Control   \n",
       "2                                    Beautiful Things   \n",
       "3                                             Flowers   \n",
       "4                             Turn the Lights Back On   \n",
       "..                                                ...   \n",
       "95                                Tell It To My Heart   \n",
       "96  We Takin' Over (feat. Akon, T.I., Rick Ross, F...   \n",
       "97                                   Used To Be Young   \n",
       "98                                 Heart Like a Truck   \n",
       "99                                             greedy   \n",
       "\n",
       "                     Artists  \n",
       "0                    Beyoncé  \n",
       "1                Teddy Swims  \n",
       "2               Benson Boone  \n",
       "3                Miley Cyrus  \n",
       "4                 Billy Joel  \n",
       "..                       ...  \n",
       "95  Cash Cash & Taylor Dayne  \n",
       "96                 DJ Khaled  \n",
       "97               Miley Cyrus  \n",
       "98             Lainey Wilson  \n",
       "99                Tate McRae  \n",
       "\n",
       "[100 rows x 2 columns]"
      ]
     },
     "execution_count": 9,
     "metadata": {},
     "output_type": "execute_result"
    }
   ],
   "source": [
    "repertoire"
   ]
  },
  {
   "cell_type": "markdown",
   "id": "768ba098",
   "metadata": {},
   "source": [
    "# Expand the project\n",
    "If you're done, you can try to expand the project on your own. Here are a few suggestions:\n",
    "\n",
    "Find other lists of hot songs on the internet and scrape them too: having a bigger pool of songs will be awesome!\n",
    "Apply the same logic to other \"groups\" of songs: the best songs from a decade or from a country / culture / language / genre.\n",
    "Wikipedia maintains a large collection of lists of songs: https://en.wikipedia.org/wiki/Lists_of_songs"
   ]
  },
  {
   "cell_type": "markdown",
   "id": "85bedecf",
   "metadata": {},
   "source": [
    "# GNOD Process Step 2\n",
    "\n",
    "The first steps you took yesterday, were to create a list of Top Songs and Artists from scraping web sites.\n",
    "You should have ended with your lists in a data frame containing at least Song Title and Artist.\n",
    "Today you are creating a recommender where the user inputs a song title and check if that song is in the list you created.   If it is,  give a different random song and artist from the list.  If it is not on the list, let the user know that you have no recommendation at this time."
   ]
  },
  {
   "cell_type": "code",
   "execution_count": 19,
   "id": "854f4d00",
   "metadata": {},
   "outputs": [],
   "source": [
    "import random"
   ]
  },
  {
   "cell_type": "code",
   "execution_count": 37,
   "id": "68853bd7",
   "metadata": {},
   "outputs": [
    {
     "name": "stdout",
     "output_type": "stream",
     "text": [
      "Enter a song title or artist name: Flowers\n",
      "Here is a song recommendation for you:  Lil Boo Thang by Paul Russell\n"
     ]
    }
   ],
   "source": [
    "def recommendation(song_input):\n",
    "    if song_input in repertoire['Songs'].values or song_input in repertoire['Artists'].values:\n",
    "        random_song_index = random.randint(0, len(repertoire)-1)\n",
    "        random_song = repertoire.loc[random_song_index, 'Songs']\n",
    "        random_artist = repertoire.loc[random_song_index, 'Artists']\n",
    "        print(\"Here is a song recommendation for you: \", random_song, \"by\" , random_artist)\n",
    "\n",
    "    else:\n",
    "        print(\"Sorry, no recommendations at this point\")\n",
    "        \n",
    "song_input = input(\"Enter a song title or artist name: \")\n",
    "\n",
    "recommendation(song_input)"
   ]
  }
 ],
 "metadata": {
  "kernelspec": {
   "display_name": "Python 3 (ipykernel)",
   "language": "python",
   "name": "python3"
  },
  "language_info": {
   "codemirror_mode": {
    "name": "ipython",
    "version": 3
   },
   "file_extension": ".py",
   "mimetype": "text/x-python",
   "name": "python",
   "nbconvert_exporter": "python",
   "pygments_lexer": "ipython3",
   "version": "3.11.5"
  }
 },
 "nbformat": 4,
 "nbformat_minor": 5
}
